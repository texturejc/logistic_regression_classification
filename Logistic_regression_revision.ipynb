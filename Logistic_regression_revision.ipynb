{
 "cells": [
  {
   "cell_type": "markdown",
   "id": "8331b108-2434-4c6f-94ed-6c024552302b",
   "metadata": {},
   "source": [
    "# Logistic regression revision"
   ]
  },
  {
   "cell_type": "code",
   "execution_count": 61,
   "id": "90a63f60-c8fa-4e59-bc74-8b301e5f46e4",
   "metadata": {},
   "outputs": [
    {
     "name": "stdout",
     "output_type": "stream",
     "text": [
      "   study_hours  outcome\n",
      "0     7.490802        0\n",
      "1    19.014286        1\n",
      "2    14.639879        1\n",
      "3    11.973170        1\n",
      "4     3.120373        0\n"
     ]
    }
   ],
   "source": [
    "import numpy as np\n",
    "import pandas as pd\n",
    "import seaborn as sns\n",
    "sns.set()\n",
    "import random\n",
    "from sklearn.metrics import precision_score, f1_score, recall_score, accuracy_score, classification_report\n",
    "from sklearn.linear_model import LogisticRegression\n",
    "from sklearn.model_selection import train_test_split\n",
    "\n",
    "np.random.seed(42)  # For reproducibility\n",
    "\n",
    "n_samples = 1000\n",
    "X = np.random.uniform(0, 20, size=(n_samples, 1))  # Features\n",
    "bias = np.random.uniform(-5, 5)  # Bias\n",
    "weights = np.random.uniform(-4, 4, size=1)  # Weights for features\n",
    "\n",
    "# Linear combination and logistic function\n",
    "linear_combination = bias + np.dot(X, weights)\n",
    "\n",
    "mean = 0\n",
    "std_dev = 0.5\n",
    "\n",
    "# Generate Gaussian noise\n",
    "noise = np.random.normal(mean, std_dev, linear_combination.shape)\n",
    "\n",
    "# Add noise to the original array\n",
    "linear_combination = linear_combination + noise\n",
    "probabilities = 1 / (1 + np.exp(-linear_combination))\n",
    "labels = (probabilities > 0.5).astype(int)  # Binary labels\n",
    "\n",
    "# Creating DataFrame\n",
    "data = pd.DataFrame(X, columns=['study_hours'])\n",
    "data['outcome'] = labels\n",
    "\n",
    "print(data.head())\n"
   ]
  },
  {
   "cell_type": "code",
   "execution_count": 58,
   "id": "39e29868-d104-41cc-a7f8-7f5155100a2c",
   "metadata": {},
   "outputs": [
    {
     "data": {
      "text/plain": [
       "Label\n",
       "1    522\n",
       "0    478\n",
       "Name: count, dtype: int64"
      ]
     },
     "execution_count": 58,
     "metadata": {},
     "output_type": "execute_result"
    }
   ],
   "source": [
    "data['Label'].value_counts()"
   ]
  },
  {
   "cell_type": "code",
   "execution_count": 32,
   "id": "b8871c2b-3955-45d1-a566-84a609573b33",
   "metadata": {},
   "outputs": [],
   "source": [
    "import seaborn as sns\n",
    "sns.set()"
   ]
  },
  {
   "cell_type": "code",
   "execution_count": null,
   "id": "f1739dbd-49e7-498b-8df7-819e123ae01e",
   "metadata": {},
   "outputs": [],
   "source": []
  },
  {
   "cell_type": "code",
   "execution_count": 18,
   "id": "cfb3846b-40be-4c24-a9c7-c19209d8697f",
   "metadata": {},
   "outputs": [
    {
     "data": {
      "text/plain": [
       "0.15714592843367126"
      ]
     },
     "execution_count": 18,
     "metadata": {},
     "output_type": "execute_result"
    }
   ],
   "source": [
    "bias"
   ]
  },
  {
   "cell_type": "code",
   "execution_count": 21,
   "id": "233d3f45-3722-4f48-b95b-b79cd57455a1",
   "metadata": {},
   "outputs": [
    {
     "data": {
      "text/plain": [
       "array([3.27282082])"
      ]
     },
     "execution_count": 21,
     "metadata": {},
     "output_type": "execute_result"
    }
   ],
   "source": [
    "weights"
   ]
  },
  {
   "cell_type": "code",
   "execution_count": null,
   "id": "5f760d70-e2fc-4ae3-b484-4479fbb6f125",
   "metadata": {},
   "outputs": [],
   "source": [
    "sns.regplot(x = data['study_hours'], y = data['outcome'], data = data)"
   ]
  },
  {
   "cell_type": "code",
   "execution_count": null,
   "id": "4d93fe2a-8d1d-454f-8154-9563f3a81a82",
   "metadata": {},
   "outputs": [],
   "source": [
    "sns.lmplot(x = 'Feature', y = 'Label', logistic = True, data = data)"
   ]
  },
  {
   "cell_type": "code",
   "execution_count": 62,
   "id": "51a0b33c-ff7b-499f-b015-c56ab5c29261",
   "metadata": {},
   "outputs": [],
   "source": [
    "X = data.drop(['outcome'], axis = 'columns')\n",
    "y = data['outcome']\n",
    "\n",
    "X_train, X_test, y_train, y_test = train_test_split(X, y, test_size=0.2, random_state=42)"
   ]
  },
  {
   "cell_type": "code",
   "execution_count": 63,
   "id": "a524fe98-b81c-4b68-88f5-16089909f65b",
   "metadata": {},
   "outputs": [],
   "source": [
    "clf = LogisticRegression(random_state=0).fit(X_train, y_train)\n"
   ]
  },
  {
   "cell_type": "code",
   "execution_count": 64,
   "id": "a738eb4b-8255-4d92-bdd8-7552bb1a7b3e",
   "metadata": {},
   "outputs": [],
   "source": [
    "preds = clf.predict(X_test) # This outputs the model predictions on the withheld test data"
   ]
  },
  {
   "cell_type": "code",
   "execution_count": 65,
   "id": "11a01e46-dda2-4497-964d-a6e95cdacb72",
   "metadata": {},
   "outputs": [
    {
     "name": "stdout",
     "output_type": "stream",
     "text": [
      "              precision    recall  f1-score   support\n",
      "\n",
      "           0       0.91      0.99      0.95        93\n",
      "           1       0.99      0.92      0.95       107\n",
      "\n",
      "    accuracy                           0.95       200\n",
      "   macro avg       0.95      0.95      0.95       200\n",
      "weighted avg       0.95      0.95      0.95       200\n",
      "\n"
     ]
    }
   ],
   "source": [
    "print(classification_report(y_test, preds))"
   ]
  },
  {
   "cell_type": "code",
   "execution_count": null,
   "id": "e3b797bf-40b0-4211-81b9-3d3d749e6a4f",
   "metadata": {},
   "outputs": [],
   "source": []
  }
 ],
 "metadata": {
  "kernelspec": {
   "display_name": "Python 3 (ipykernel)",
   "language": "python",
   "name": "python3"
  },
  "language_info": {
   "codemirror_mode": {
    "name": "ipython",
    "version": 3
   },
   "file_extension": ".py",
   "mimetype": "text/x-python",
   "name": "python",
   "nbconvert_exporter": "python",
   "pygments_lexer": "ipython3",
   "version": "3.9.18"
  }
 },
 "nbformat": 4,
 "nbformat_minor": 5
}
